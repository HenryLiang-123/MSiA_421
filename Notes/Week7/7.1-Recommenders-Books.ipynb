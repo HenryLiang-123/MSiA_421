{
 "cells": [
  {
   "cell_type": "markdown",
   "metadata": {},
   "source": [
    "# Books Recommender"
   ]
  },
  {
   "cell_type": "code",
   "execution_count": null,
   "metadata": {},
   "outputs": [],
   "source": [
    "import pandas as pd\n",
    "import numpy as np\n",
    "from sklearn.metrics.pairwise import linear_kernel\n",
    "from sklearn.feature_extraction.text import TfidfVectorizer\n",
    "from sklearn.metrics.pairwise import cosine_similarity\n",
    "import seaborn as sns"
   ]
  },
  {
   "cell_type": "code",
   "execution_count": null,
   "metadata": {},
   "outputs": [],
   "source": [
    "#read data\n",
    "books = pd.read_csv('data/books/listing.csv', encoding = 'latin-1')\n",
    "descriptions = pd.read_csv('data/books/description.csv', encoding = 'latin-1')\n",
    "ratings = pd.read_csv('data/books/ratings.csv', encoding = 'latin-1')"
   ]
  },
  {
   "cell_type": "code",
   "execution_count": null,
   "metadata": {},
   "outputs": [],
   "source": [
    "books.head()"
   ]
  },
  {
   "cell_type": "code",
   "execution_count": null,
   "metadata": {},
   "outputs": [],
   "source": [
    "descriptions.head()"
   ]
  },
  {
   "cell_type": "code",
   "execution_count": null,
   "metadata": {},
   "outputs": [],
   "source": [
    "ratings.head()"
   ]
  },
  {
   "cell_type": "code",
   "execution_count": null,
   "metadata": {},
   "outputs": [],
   "source": [
    "# Number of users\n",
    "print('The ratings dataset has', ratings['user_id'].nunique(), 'unique users')"
   ]
  },
  {
   "cell_type": "code",
   "execution_count": null,
   "metadata": {},
   "outputs": [],
   "source": [
    "# Number of books\n",
    "print('The ratings dataset has', ratings['book_id'].nunique(), 'unique movies')"
   ]
  },
  {
   "cell_type": "markdown",
   "metadata": {},
   "source": [
    "## 1. Popularity Based  Recommender\n",
    "\n",
    "Pick the most popular book (rated highly) among the users and directly recommend those"
   ]
  },
  {
   "cell_type": "code",
   "execution_count": null,
   "metadata": {},
   "outputs": [],
   "source": [
    "# Getting recommendation based on No. Of ratings \n",
    "rating_count = pd.DataFrame(ratings, columns=['book_id','no_of_ratings'])\n",
    "rating_count.sort_values('no_of_ratings', ascending=False).drop_duplicates().head(10)"
   ]
  },
  {
   "cell_type": "code",
   "execution_count": null,
   "metadata": {},
   "outputs": [],
   "source": [
    "# calculating the mean\n",
    "rating_mean = pd.DataFrame(ratings.groupby('book_id')['no_of_ratings'].mean())\n",
    "rating_mean.head()"
   ]
  },
  {
   "cell_type": "code",
   "execution_count": null,
   "metadata": {},
   "outputs": [],
   "source": [
    "# getting the detail of most rated books\n",
    "most_rated_books = pd.DataFrame([4755, 2409, 2194, 4696, 1616], index=np.arange(5), columns=['book_id'])\n",
    "\n",
    "detail = pd.merge(most_rated_books, books, on='book_id')\n",
    "detail"
   ]
  },
  {
   "cell_type": "code",
   "execution_count": null,
   "metadata": {},
   "outputs": [],
   "source": [
    "# getting the most rated book\n",
    "most_rated_book = pd.DataFrame(ratings, columns=['book_id', 'user_id', 'avg_rating', 'no_of_ratings'])\n",
    "most_rated_book.max()"
   ]
  },
  {
   "cell_type": "code",
   "execution_count": null,
   "metadata": {},
   "outputs": [],
   "source": [
    "#getting description for most rated book\n",
    "most_rated_book.describe()"
   ]
  },
  {
   "cell_type": "code",
   "execution_count": null,
   "metadata": {},
   "outputs": [],
   "source": [
    "# can also get the description for author \n",
    "books['author'].describe()"
   ]
  },
  {
   "cell_type": "markdown",
   "metadata": {},
   "source": [
    "## 2. Content Based  Recommender\n",
    "\n",
    "We will match books based on their content (description). TF-IDF will be used to vectorize the description column and cosine similary will be used to find other similar books. Other vectorization techniques (HashingTF, Word2Vec, BERT, etc.) can be used as well."
   ]
  },
  {
   "cell_type": "code",
   "execution_count": null,
   "metadata": {},
   "outputs": [],
   "source": [
    "# replace NaN with empty strings\n",
    "descriptions['description'] = descriptions['description'].fillna('')"
   ]
  },
  {
   "cell_type": "code",
   "execution_count": null,
   "metadata": {},
   "outputs": [],
   "source": [
    "# removing the stop words\n",
    "tfidf = TfidfVectorizer(stop_words='english')\n",
    "\n",
    "# computing TF-IDF matrix required for calculating cosine similarity\n",
    "books_tfidf = tfidf.fit_transform(descriptions['description'])"
   ]
  },
  {
   "cell_type": "code",
   "execution_count": null,
   "metadata": {},
   "outputs": [],
   "source": [
    "# shape of computed matrix\n",
    "books_tfidf.shape"
   ]
  },
  {
   "cell_type": "code",
   "execution_count": null,
   "metadata": {},
   "outputs": [],
   "source": [
    "# computing cosine similarity matrix using linear_kernal of sklearn\n",
    "cosine_similarity = linear_kernel(books_tfidf, books_tfidf)"
   ]
  },
  {
   "cell_type": "code",
   "execution_count": null,
   "metadata": {},
   "outputs": [],
   "source": [
    "# Get the pairwise similarity scores of all books compared to the book passed by index\n",
    "# here 2 is the index of the book in dataset\n",
    "similarity_scores = list(enumerate(cosine_similarity[2]))\n",
    "\n",
    "#get the top 5 similar books\n",
    "similarity_scores = sorted(similarity_scores, key=lambda x: x[1], reverse=True)\n",
    "similarity_scores = similarity_scores[1:6]\n",
    "\n",
    "# Get the similar books index\n",
    "books_index = [i[0] for i in similarity_scores]\n",
    "\n",
    "# print the top 5 most similar books\n",
    "print (descriptions['name'].iloc[books_index])"
   ]
  },
  {
   "cell_type": "markdown",
   "metadata": {},
   "source": [
    "## 3.  Collaborative Filter   "
   ]
  },
  {
   "cell_type": "code",
   "execution_count": null,
   "metadata": {},
   "outputs": [],
   "source": [
    "# Build the user-item matrix\n",
    "user_item = pd.pivot_table(data=ratings, values='user_rating', index='user_id', columns='book_id')\n",
    "user_item.replace('',np.nan,inplace=True) \n",
    "user_item.head()"
   ]
  },
  {
   "cell_type": "code",
   "execution_count": null,
   "metadata": {},
   "outputs": [],
   "source": [
    "# Normalize user-item matrix\n",
    "user_item_norm = user_item.subtract(user_item.mean(axis=1), axis = 0)\n",
    "user_item_norm.head()"
   ]
  },
  {
   "cell_type": "code",
   "execution_count": null,
   "metadata": {},
   "outputs": [],
   "source": [
    "# User similarity matrix using Pearson correlation\n",
    "user_similarity = user_item_norm.T.corr(method='pearson')\n",
    "user_similarity.head()"
   ]
  },
  {
   "cell_type": "code",
   "execution_count": null,
   "metadata": {},
   "outputs": [],
   "source": [
    "# Item similarity matrix using Pearson correlation\n",
    "item_similarity = user_item_norm.corr(method='pearson')\n",
    "item_similarity.head()"
   ]
  },
  {
   "cell_type": "code",
   "execution_count": null,
   "metadata": {},
   "outputs": [],
   "source": [
    "# Pick a user ID\n",
    "target_userid = 3472 \n",
    "\n",
    "# Pick a book\n",
    "target_bookid = 4755\n",
    "\n",
    "# Books that the target user has rated\n",
    "target_userid_rated = pd.DataFrame(user_item_norm.loc[[target_userid]].dropna(axis=1, how='all')).reset_index()\n",
    "target_userid_rated.drop(target_userid_rated.iloc[:, 0:1], inplace=True, axis=1)\n",
    "target_userid_rated = target_userid_rated.T\n",
    "target_userid_rated.head()"
   ]
  },
  {
   "cell_type": "code",
   "execution_count": null,
   "metadata": {},
   "outputs": [],
   "source": [
    "# Similarity score of the target_bookid with all the other books\n",
    "target_book_similarity_score = item_similarity.loc[[target_bookid]].dropna(axis=1, how='all').reset_index()\n",
    "target_book_similarity_score.drop(target_book_similarity_score.iloc[:, 0:1], inplace=True, axis=1)\n",
    "target_book_similarity_score = target_book_similarity_score.T\n",
    "target_book_similarity_score.head()"
   ]
  },
  {
   "cell_type": "code",
   "execution_count": null,
   "metadata": {},
   "outputs": [],
   "source": [
    "#Rank the similarities between the books \n",
    "target_book_similarity = "
   ]
  },
  {
   "cell_type": "code",
   "execution_count": null,
   "metadata": {},
   "outputs": [],
   "source": [
    "#Rank the similarities between target user and target book\n",
    "target_userid_rated_similarity = #select top 5"
   ]
  },
  {
   "cell_type": "code",
   "execution_count": null,
   "metadata": {},
   "outputs": [],
   "source": [
    "#Calculate the predicted rating using weighted average of similarity\n",
    "predicted_rating = round(np.average(target_userid_rated_similarity['rating'], \n",
    "                                    weights=target_userid_rated_similarity['similarity_score']), 6)\n",
    "print(f'The predicted rating for {target_bookid} by user {target_userid} is {predicted_rating}' )"
   ]
  }
 ],
 "metadata": {
  "kernelspec": {
   "display_name": "Python 3.10.6 64-bit",
   "language": "python",
   "name": "python3"
  },
  "language_info": {
   "codemirror_mode": {
    "name": "ipython",
    "version": 3
   },
   "file_extension": ".py",
   "mimetype": "text/x-python",
   "name": "python",
   "nbconvert_exporter": "python",
   "pygments_lexer": "ipython3",
   "version": "3.10.6"
  },
  "vscode": {
   "interpreter": {
    "hash": "916dbcbb3f70747c44a77c7bcd40155683ae19c65e1c03b4aa3499c5328201f1"
   }
  }
 },
 "nbformat": 4,
 "nbformat_minor": 2
}
